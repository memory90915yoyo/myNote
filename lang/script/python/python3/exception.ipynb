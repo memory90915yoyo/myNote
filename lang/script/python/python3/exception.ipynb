{
 "cells": [
  {
   "cell_type": "markdown",
   "metadata": {},
   "source": [
    "# try, except"
   ]
  },
  {
   "cell_type": "code",
   "execution_count": null,
   "metadata": {},
   "outputs": [],
   "source": [
    "try: \n",
    "    a = int(input('input an integer number ')) \n",
    "    b = int(input('input an integer number ')) \n",
    "    if a > b: \n",
    "        print(n)\n",
    "except ValueError: \n",
    "    print(\"Value Error, you don't input any character\")\n",
    "except: \n",
    "    print(\"Other Error\")\n",
    "else: \n",
    "    print(\"Normal finish\")\n",
    "finally: \n",
    "    print(\"force action\")"
   ]
  },
  {
   "cell_type": "markdown",
   "metadata": {},
   "source": [
    "---"
   ]
  },
  {
   "cell_type": "markdown",
   "metadata": {},
   "source": [
    "# raise"
   ]
  },
  {
   "cell_type": "code",
   "execution_count": null,
   "metadata": {},
   "outputs": [],
   "source": [
    "import math\n",
    "\n",
    "anumber = int(input('input an integer number '))\n",
    "\n",
    "if anumber < 0:\n",
    "    raise RuntimeError(\"You can't use a negative number\")\n",
    "else:\n",
    "    print(math.sqrt(anumber))"
   ]
  },
  {
   "cell_type": "markdown",
   "metadata": {},
   "source": [
    "---"
   ]
  },
  {
   "cell_type": "markdown",
   "metadata": {},
   "source": [
    "# defined exception"
   ]
  },
  {
   "cell_type": "code",
   "execution_count": null,
   "metadata": {},
   "outputs": [],
   "source": [
    "class MyError(Exception): \n",
    "    def __init__(self, value): \n",
    "        self.value = value \n",
    "\n",
    "    def __str__(self): \n",
    "        return repr(self.value) \n",
    "\n",
    "try: \n",
    "    raise MyError(input(\"keyin any one: \")) \n",
    "except MyError as e: \n",
    "    print('My exception occurred, value:', e.value)"
   ]
  }
 ],
 "metadata": {
  "kernelspec": {
   "display_name": "Python 3",
   "language": "python",
   "name": "python3"
  },
  "language_info": {
   "codemirror_mode": {
    "name": "ipython",
    "version": 3
   },
   "file_extension": ".py",
   "mimetype": "text/x-python",
   "name": "python",
   "nbconvert_exporter": "python",
   "pygments_lexer": "ipython3",
   "version": "3.6.0"
  }
 },
 "nbformat": 4,
 "nbformat_minor": 2
}
