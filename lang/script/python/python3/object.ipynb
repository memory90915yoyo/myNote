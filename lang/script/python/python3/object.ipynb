{
 "cells": [
  {
   "cell_type": "markdown",
   "metadata": {},
   "source": [
    "# attribute"
   ]
  },
  {
   "cell_type": "code",
   "execution_count": 1,
   "metadata": {},
   "outputs": [
    {
     "name": "stdout",
     "output_type": "stream",
     "text": [
      "['__class__', '__delattr__', '__dict__', '__dir__', '__doc__', '__eq__', '__format__', '__ge__', '__getattribute__', '__gt__', '__hash__', '__init__', '__init_subclass__', '__le__', '__lt__', '__module__', '__ne__', '__new__', '__reduce__', '__reduce_ex__', '__repr__', '__setattr__', '__sizeof__', '__str__', '__subclasshook__', '__weakref__', 'get_name', 'name', 'set_name']\n",
      "['__class__', '__delattr__', '__dir__', '__eq__', '__format__', '__ge__', '__getattribute__', '__gt__', '__hash__', '__init__', '__init_subclass__', '__le__', '__lt__', '__ne__', '__new__', '__reduce__', '__reduce_ex__', '__repr__', '__setattr__', '__sizeof__', '__str__', '__subclasshook__', 'get_name', 'set_name']\n",
      "['get_name', 'set_name']\n",
      "['name']\n",
      "{'name': 'man'}\n",
      "{'name': 'man'}\n"
     ]
    }
   ],
   "source": [
    "class Person:\n",
    "    def __init__(self, name):\n",
    "        self.name = name\n",
    "\n",
    "    def get_name(self):\n",
    "        return self.name\n",
    "\n",
    "    def set_name(self, name):\n",
    "        self.name = name\n",
    "\n",
    "obj = Person('man')\n",
    "\n",
    "print(dir(obj))\n",
    "\n",
    "print([mthd for mthd in dir(obj) if callable(getattr(obj, mthd))])\n",
    "print([mthd for mthd in dir(obj) if callable(getattr(obj, mthd)) and not mthd.startswith(\"__\")])\n",
    "\n",
    "print([attr for attr in vars(obj)])\n",
    "print(vars(obj))\n",
    "print(obj.__dict__)"
   ]
  },
  {
   "cell_type": "markdown",
   "metadata": {},
   "source": [
    "---"
   ]
  },
  {
   "cell_type": "markdown",
   "metadata": {},
   "source": [
    "# class"
   ]
  },
  {
   "cell_type": "code",
   "execution_count": 1,
   "metadata": {},
   "outputs": [
    {
     "name": "stdout",
     "output_type": "stream",
     "text": [
      "Construct Animal\n",
      "animal\n",
      "1\n",
      "unknown\n"
     ]
    }
   ],
   "source": [
    "class Animal:\n",
    "    def __init__(self, name=None):\n",
    "        self.__name = name\n",
    "        self.__voice = 'a'\n",
    "        self.__age = 0\n",
    "        self.__sex = 'unknown'\n",
    "        print(\"Construct Animal\")\n",
    "\n",
    "    def get_name(self):\n",
    "        return self.__name\n",
    "\n",
    "    def set_name(self, name):\n",
    "        self.__name = name\n",
    "\n",
    "    def set_age(self, age):\n",
    "        self.__age = age\n",
    "\n",
    "    def get_age(self):\n",
    "        return self.__age\n",
    "\n",
    "    age = property(get_age, set_age, 'age')\n",
    "\n",
    "    @property\n",
    "    def sex(self):\n",
    "        return self.__sex\n",
    "\n",
    "    @sex.setter\n",
    "    def sex(self, sex):\n",
    "        if sex.lower() == 'male' or sex.lower() == 'female':\n",
    "            self.__sex = sex\n",
    "        else:\n",
    "            raise ValueError('Error sex value')\n",
    "\n",
    "    @property\n",
    "    def voice(self):\n",
    "        return self.__voice\n",
    "\n",
    "    def _set_voice(self, voice):\n",
    "        self.__voice = voice\n",
    "\n",
    "\n",
    "animal = Animal('animal')\n",
    "print(animal.get_name())\n",
    "\n",
    "animal.set_age(1)\n",
    "print(animal.age)\n",
    "\n",
    "print(animal.sex)"
   ]
  },
  {
   "cell_type": "markdown",
   "metadata": {},
   "source": [
    "---"
   ]
  },
  {
   "cell_type": "markdown",
   "metadata": {},
   "source": [
    "# inheritance"
   ]
  },
  {
   "cell_type": "code",
   "execution_count": 2,
   "metadata": {},
   "outputs": [
    {
     "name": "stdout",
     "output_type": "stream",
     "text": [
      "Construct Animal\n",
      "Construct Felidae, and inheritance Animal\n",
      "felidae\n",
      "Construct Animal\n",
      "Construct Felidae, and inheritance Animal\n",
      "Construct Cat\n",
      "kitty\n",
      "Meow\n",
      "Cat: kitty\n"
     ]
    }
   ],
   "source": [
    "class Felidae(Animal):\n",
    "    def __init__(self, name):\n",
    "        Animal.__init__(self, name)\n",
    "        print('Construct Felidae, and inheritance Animal')\n",
    "        \n",
    "    def walk(self):\n",
    "        print('Walking on land')\n",
    "\n",
    "\n",
    "class Cat(Felidae):\n",
    "    def __init__(self, name):\n",
    "        super().__init__(name)\n",
    "        self._set_voice('Meow')\n",
    "        print('Construct Cat')\n",
    "\n",
    "    def __str__(self):\n",
    "        return 'Cat: {}'.format(self.get_name())\n",
    "\n",
    "\n",
    "felidae = Felidae('felidae')\n",
    "print(felidae.get_name())\n",
    "\n",
    "cat = Cat('kitty')\n",
    "print(cat.get_name())\n",
    "print(cat.voice)\n",
    "print(cat)"
   ]
  },
  {
   "cell_type": "markdown",
   "metadata": {},
   "source": [
    "---"
   ]
  },
  {
   "cell_type": "markdown",
   "metadata": {},
   "source": [
    "# multi-inheritance"
   ]
  },
  {
   "cell_type": "code",
   "execution_count": null,
   "metadata": {},
   "outputs": [],
   "source": [
    "class Bird(Animal):\n",
    "    def __init__(self):\n",
    "        Animal.__init__(self)\n",
    "        print(\"Construct Bird, and inheritance Animal\")\n",
    "\n",
    "    def fly(self):\n",
    "        print(\"Flying in sky\")\n",
    "\n",
    "    def eat(self):\n",
    "        print('Eat meat and fish')\n",
    "\n",
    "class Griffin(Felidae, Bird):\n",
    "    def __init__(self, name):\n",
    "        super().__init__(name)\n",
    "        print(\"Construct Felidae and Bird, and inheritance Animal\")\n",
    "\n",
    "    def eat(self):\n",
    "        super(Felidae, self).eat()\n",
    "\n",
    "griffin = Griffin('griffin')\n",
    "griffin.walk()\n",
    "griffin.fly()\n",
    "griffin.eat()"
   ]
  },
  {
   "cell_type": "markdown",
   "metadata": {},
   "source": [
    "---"
   ]
  },
  {
   "cell_type": "markdown",
   "metadata": {},
   "source": [
    "# abstract class"
   ]
  },
  {
   "cell_type": "code",
   "execution_count": 3,
   "metadata": {},
   "outputs": [
    {
     "name": "stdout",
     "output_type": "stream",
     "text": [
      "10.0\n",
      "8.0\n",
      "7.0\n"
     ]
    }
   ],
   "source": [
    "import abc\n",
    "\n",
    "class AbcCar:\n",
    "    __metaclass__ = abc.ABCMeta\n",
    "\n",
    "    def __init__(self, volume):\n",
    "        self._set_gasoline_volume(volume)\n",
    "        self._gasoline = 0.0\n",
    "\n",
    "    def _set_gasoline_volume(self, volume):\n",
    "        self._volume = volume\n",
    "\n",
    "    def get_volume(self):\n",
    "        return self._volume\n",
    "\n",
    "    def add_gasoline(self, volume):\n",
    "        if self._gasoline + volume > self._volume:\n",
    "            raise RuntimeError('add too much gasoline, max %f'.format(self._volume))\n",
    "        self._gasoline += volume\n",
    "\n",
    "    @property\n",
    "    def gasoline(self):\n",
    "        return self._gasoline\n",
    "\n",
    "    def run(self, mileage):\n",
    "        raise NotImplementedError()\n",
    "\n",
    "    @abc.abstractmethod\n",
    "    def turbo(self, mileage):\n",
    "        pass\n",
    "\n",
    "\n",
    "class Car(AbcCar):\n",
    "    def run(self, mileage):\n",
    "        if self._gasoline - mileage * 0.1 > 0:\n",
    "            self._gasoline -= mileage * 0.1\n",
    "\n",
    "    def turbo(self, mileage):\n",
    "        if self._gasoline - mileage * 0.2 > 0:\n",
    "            self._gasoline -= mileage * 0.2\n",
    "\n",
    "\n",
    "car = Car(10)\n",
    "car.add_gasoline(10)\n",
    "print(car.gasoline)\n",
    "\n",
    "car.turbo(10)\n",
    "print(car.gasoline)\n",
    "\n",
    "car.run(10)\n",
    "print(car.gasoline)"
   ]
  },
  {
   "cell_type": "markdown",
   "metadata": {},
   "source": [
    "---"
   ]
  },
  {
   "cell_type": "markdown",
   "metadata": {},
   "source": [
    "# staticmethod, classmethod"
   ]
  },
  {
   "cell_type": "code",
   "execution_count": 5,
   "metadata": {},
   "outputs": [
    {
     "name": "stdout",
     "output_type": "stream",
     "text": [
      "2012 11\n",
      "True\n"
     ]
    }
   ],
   "source": [
    "class Date(object):\n",
    "    def __init__(self, day=0, month=0, year=0):\n",
    "        self.day = day\n",
    "        self.month = month\n",
    "        self.year = year\n",
    "\n",
    "    @classmethod\n",
    "    def from_string(cls, date_as_string):\n",
    "        day, month, year = map(int, date_as_string.split('-'))\n",
    "        date1 = cls(day, month, year)\n",
    "        return date1\n",
    "\n",
    "    @staticmethod\n",
    "    def is_date_valid(date_as_string):\n",
    "        day, month, year = map(int, date_as_string.split('-'))\n",
    "        return day <= 31 and month <= 12 and year <= 3999\n",
    "\n",
    "date2 = Date.from_string('11-09-2012')\n",
    "print(date2.year, date2.day)\n",
    "\n",
    "print(Date.is_date_valid('11-09-2012'))"
   ]
  }
 ],
 "metadata": {
  "kernelspec": {
   "display_name": "Python 3",
   "language": "python",
   "name": "python3"
  },
  "language_info": {
   "codemirror_mode": {
    "name": "ipython",
    "version": 3
   },
   "file_extension": ".py",
   "mimetype": "text/x-python",
   "name": "python",
   "nbconvert_exporter": "python",
   "pygments_lexer": "ipython3",
   "version": "3.6.0"
  }
 },
 "nbformat": 4,
 "nbformat_minor": 2
}
