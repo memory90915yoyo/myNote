{
 "cells": [
  {
   "cell_type": "markdown",
   "metadata": {},
   "source": [
    "# if else"
   ]
  },
  {
   "cell_type": "code",
   "execution_count": 1,
   "metadata": {},
   "outputs": [
    {
     "name": "stdout",
     "output_type": "stream",
     "text": [
      "input your sex [m/f]: m\n",
      "Male\n",
      "Male\n"
     ]
    }
   ],
   "source": [
    "sex = input('input your sex [m/f]: ') \n",
    "if sex == 'm': \n",
    "    print('Male')\n",
    "elif sex == 'f': \n",
    "    print('Female')\n",
    "else: \n",
    "    print('Unknown')\n",
    "\n",
    "# 使用 dictionary 方法替代 switch/case \n",
    "sex = {'m': 'Male', 'f': 'Female'} \n",
    "print(sex.get('m', 'Unknown'))"
   ]
  },
  {
   "cell_type": "code",
   "execution_count": 2,
   "metadata": {},
   "outputs": [
    {
     "name": "stdout",
     "output_type": "stream",
     "text": [
      "Unknown\n",
      "Linux\n"
     ]
    }
   ],
   "source": [
    "import platform \n",
    "\n",
    "if platform.system() == \"Linux\": \n",
    "    OS = \"Linux\" \n",
    "else: \n",
    "    OS = \"Unknown\" \n",
    "print(OS)\n",
    "\n",
    "#另一種簡單方式的if/else使用方式 \n",
    "OS = \"Linux\" if platform.system() else \"Unknown\" \n",
    "print (OS)"
   ]
  },
  {
   "cell_type": "code",
   "execution_count": 3,
   "metadata": {},
   "outputs": [
    {
     "name": "stdout",
     "output_type": "stream",
     "text": [
      ".profile or .bashrc_profile exist\n"
     ]
    }
   ],
   "source": [
    "import os \n",
    "\n",
    "#兩個condition同時判斷檔案是否存在 \n",
    "if os.path.exists(os.path.join(os.getenv('HOME'), '.profile') ) or os.path.exists(os.path.join(os.getenv('HOME'), '.bash_profile') ) : \n",
    "    print(\".profile or .bashrc_profile exist\")"
   ]
  },
  {
   "cell_type": "markdown",
   "metadata": {},
   "source": [
    "---"
   ]
  },
  {
   "cell_type": "markdown",
   "metadata": {},
   "source": [
    "# for"
   ]
  },
  {
   "cell_type": "code",
   "execution_count": 4,
   "metadata": {},
   "outputs": [
    {
     "name": "stdout",
     "output_type": "stream",
     "text": [
      "ABC\n",
      "xyz\n",
      "123\n",
      "ABC\n",
      "xyz\n",
      "123\n",
      "0\n",
      "1\n",
      "2\n",
      "3\n",
      "4\n"
     ]
    }
   ],
   "source": [
    "list1 = [\"ABC\", 'xyz', 123] \n",
    "# 顯示l ist 內容 \n",
    "for l in list1: \n",
    "    print(l)\n",
    "\n",
    "dict1 = {\"A\":\"ABC\", 'b':\"xyz\", \"0\":123} \n",
    "# 顯示dictionary內容 \n",
    "for D in dict1.keys(): \n",
    "    print(dict1[D])\n",
    "\n",
    "# 數值迴圈的使用方式 \n",
    "for i in range (5): \n",
    "    print(i)"
   ]
  },
  {
   "cell_type": "markdown",
   "metadata": {},
   "source": [
    "---"
   ]
  },
  {
   "cell_type": "markdown",
   "metadata": {},
   "source": [
    "# list comprehension"
   ]
  },
  {
   "cell_type": "code",
   "execution_count": 6,
   "metadata": {},
   "outputs": [
    {
     "data": {
      "text/plain": [
       "True"
      ]
     },
     "execution_count": 6,
     "metadata": {},
     "output_type": "execute_result"
    }
   ],
   "source": [
    "lines1 = []\n",
    "for line in open('/etc/passwd'):\n",
    "    lines1.append(line.rstrip())\n",
    "# print(lines1)\n",
    "\n",
    "lines2 = [line.rstrip() for line in open('/etc/passwd')] \n",
    "# print(lines2)\n",
    "\n",
    "lines1 == lines2"
   ]
  },
  {
   "cell_type": "code",
   "execution_count": 7,
   "metadata": {},
   "outputs": [
    {
     "name": "stdout",
     "output_type": "stream",
     "text": [
      "[0, 1, 4, 9, 16, 25, 36, 49, 64, 81]\n",
      "[1, 2, 4, 8, 16, 32, 64, 128, 256, 512, 1024, 2048, 4096]\n",
      "[0, 4, 16, 36, 64]\n",
      "[2, 3, 5, 7, 11, 13, 17, 19, 23, 29, 31, 37, 41, 43, 47]\n"
     ]
    }
   ],
   "source": [
    "S = [x**2 for x in range(10)] \n",
    "V = [2**i for i in range(13)] \n",
    "M = [x for x in S if x % 2 == 0] \n",
    "print(S)\n",
    "print(V)\n",
    "print(M)\n",
    "\n",
    "noprimes = [j for i in range(2, 8) for j in range(i*2, 50, i)] \n",
    "primes = [x for x in range(2, 50) if x not in noprimes] \n",
    "print(primes)"
   ]
  },
  {
   "cell_type": "markdown",
   "metadata": {},
   "source": [
    "---"
   ]
  },
  {
   "cell_type": "markdown",
   "metadata": {},
   "source": [
    "# while"
   ]
  },
  {
   "cell_type": "code",
   "execution_count": 9,
   "metadata": {},
   "outputs": [
    {
     "name": "stdout",
     "output_type": "stream",
     "text": [
      "Input the word, [Quit]abc\n",
      "Your keyin:  abc\n",
      "Input the word, [Quit]Quit\n"
     ]
    }
   ],
   "source": [
    "import sys \n",
    "\n",
    "input1 = input(\"Input the word, [Quit]\")\n",
    "\n",
    "while input1 != \"Quit\": \n",
    "    print(\"Your keyin: \", input1)\n",
    "    input1 = input(\"Input the word, [Quit]\")"
   ]
  },
  {
   "cell_type": "code",
   "execution_count": 15,
   "metadata": {},
   "outputs": [
    {
     "name": "stdout",
     "output_type": "stream",
     "text": [
      "Input the word, [Quit]\n",
      "\n",
      "Input the word, [Quit]\n",
      "\n",
      "Input the word, [Quit]a\n",
      "a\n",
      "Input the word, [Quit]b\n",
      "b\n",
      "Input the word, [Quit]abc\n",
      "abc\n",
      "Input the word, [Quit]  \n",
      "  \n",
      "Input the word, [Quit]  asdf\n",
      "  asdf\n",
      "Input the word, [Quit]\n",
      "\n",
      "Input the word, [Quit]\n",
      "\n",
      "Input the word, [Quit]\n",
      "\n",
      "Input the word, [Quit]quit\n"
     ]
    }
   ],
   "source": [
    "while True:\n",
    "    word = input('Input the word, [Quit]')\n",
    "    if word.lower() == 'quit':\n",
    "        break\n",
    "    elif word == '\\n':\n",
    "        continue\n",
    "    else:\n",
    "        print(word)"
   ]
  }
 ],
 "metadata": {
  "kernelspec": {
   "display_name": "Python 3",
   "language": "python",
   "name": "python3"
  },
  "language_info": {
   "codemirror_mode": {
    "name": "ipython",
    "version": 3
   },
   "file_extension": ".py",
   "mimetype": "text/x-python",
   "name": "python",
   "nbconvert_exporter": "python",
   "pygments_lexer": "ipython3",
   "version": "3.6.0"
  }
 },
 "nbformat": 4,
 "nbformat_minor": 2
}
