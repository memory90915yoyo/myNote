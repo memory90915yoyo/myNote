{
 "cells": [
  {
   "cell_type": "markdown",
   "metadata": {},
   "source": [
    "# if else"
   ]
  },
  {
   "cell_type": "code",
   "execution_count": null,
   "metadata": {},
   "outputs": [],
   "source": [
    "sex = input('input your sex [m/f]: ') \n",
    "if sex == 'm': \n",
    "    print('Male')\n",
    "elif sex == 'f': \n",
    "    print('Female')\n",
    "else: \n",
    "    print('Unknown')\n",
    "\n",
    "# 使用 dictionary 方法替代 switch/case \n",
    "sex = {'m': 'Male', 'f': 'Female'} \n",
    "print(sex.get('m', 'Unknown'))"
   ]
  },
  {
   "cell_type": "code",
   "execution_count": null,
   "metadata": {},
   "outputs": [],
   "source": [
    "import platform \n",
    "\n",
    "if platform.system() == \"Linux\": \n",
    "    OS = \"Linux\" \n",
    "else: \n",
    "    OS = \"Unknown\" \n",
    "print(OS)\n",
    "\n",
    "#另一種簡單方式的if/else使用方式 \n",
    "OS = \"Linux\" if platform.system() else \"Unknown\" \n",
    "print (OS)"
   ]
  },
  {
   "cell_type": "code",
   "execution_count": null,
   "metadata": {},
   "outputs": [],
   "source": [
    "import os \n",
    "\n",
    "#兩個condition同時判斷檔案是否存在 \n",
    "if os.path.exists(os.path.join(os.getenv('HOME'), '.profile') ) or os.path.exists(os.path.join(os.getenv('HOME'), '.bash_profile') ) : \n",
    "    print(\".profile or .bashrc_profile exist\")"
   ]
  },
  {
   "cell_type": "markdown",
   "metadata": {},
   "source": [
    "---"
   ]
  },
  {
   "cell_type": "markdown",
   "metadata": {},
   "source": [
    "# for"
   ]
  },
  {
   "cell_type": "code",
   "execution_count": null,
   "metadata": {},
   "outputs": [],
   "source": [
    "list1 = [\"ABC\", 'xyz', 123] \n",
    "# 顯示l ist 內容 \n",
    "for l in list1: \n",
    "    print(l)\n",
    "\n",
    "dict1 = {\"A\":\"ABC\", 'b':\"xyz\", \"0\":123} \n",
    "# 顯示dictionary內容 \n",
    "for D in dict1.keys(): \n",
    "    print(dict1[D])\n",
    "\n",
    "# 數值迴圈的使用方式 \n",
    "for i in range (5): \n",
    "    print(i)"
   ]
  },
  {
   "cell_type": "markdown",
   "metadata": {},
   "source": [
    "---"
   ]
  },
  {
   "cell_type": "markdown",
   "metadata": {},
   "source": [
    "# list comprehension"
   ]
  },
  {
   "cell_type": "code",
   "execution_count": null,
   "metadata": {},
   "outputs": [],
   "source": [
    "lines1 = []\n",
    "for line in open('/etc/passwd'):\n",
    "    lines1.append(line.rstrip())\n",
    "# print(lines1)\n",
    "\n",
    "lines2 = [line.rstrip() for line in open('/etc/passwd')] \n",
    "# print(lines2)\n",
    "\n",
    "lines1 == lines2"
   ]
  },
  {
   "cell_type": "code",
   "execution_count": null,
   "metadata": {},
   "outputs": [],
   "source": [
    "S = [x**2 for x in range(10)] \n",
    "V = [2**i for i in range(13)] \n",
    "M = [x for x in S if x % 2 == 0] \n",
    "print(S)\n",
    "print(V)\n",
    "print(M)\n",
    "\n",
    "noprimes = [j for i in range(2, 8) for j in range(i*2, 50, i)] \n",
    "primes = [x for x in range(2, 50) if x not in noprimes] \n",
    "print(primes)"
   ]
  },
  {
   "cell_type": "markdown",
   "metadata": {},
   "source": [
    "---"
   ]
  },
  {
   "cell_type": "markdown",
   "metadata": {},
   "source": [
    "# while"
   ]
  },
  {
   "cell_type": "code",
   "execution_count": null,
   "metadata": {},
   "outputs": [],
   "source": [
    "import sys \n",
    "\n",
    "input1 = input(\"Input the word, [Quit]\")\n",
    "\n",
    "while input1 != \"Quit\": \n",
    "    print(\"Your keyin: \", input1)\n",
    "    input1 = input(\"Input the word, [Quit]\")"
   ]
  },
  {
   "cell_type": "code",
   "execution_count": null,
   "metadata": {},
   "outputs": [],
   "source": [
    "while True:\n",
    "    word = input('Input the word, [Quit]')\n",
    "    if word.lower() == 'quit':\n",
    "        break\n",
    "    elif word == '\\n':\n",
    "        continue\n",
    "    else:\n",
    "        print(word)"
   ]
  }
 ],
 "metadata": {
  "kernelspec": {
   "display_name": "Python 3",
   "language": "python",
   "name": "python3"
  },
  "language_info": {
   "codemirror_mode": {
    "name": "ipython",
    "version": 3
   },
   "file_extension": ".py",
   "mimetype": "text/x-python",
   "name": "python",
   "nbconvert_exporter": "python",
   "pygments_lexer": "ipython3",
   "version": "3.6.0"
  }
 },
 "nbformat": 4,
 "nbformat_minor": 2
}
