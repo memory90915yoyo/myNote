{
 "cells": [
  {
   "cell_type": "markdown",
   "metadata": {},
   "source": [
    "# Boolean"
   ]
  },
  {
   "cell_type": "code",
   "execution_count": 34,
   "metadata": {
    "scrolled": true
   },
   "outputs": [
    {
     "name": "stdout",
     "output_type": "stream",
     "text": [
      "True False\n",
      "True\n",
      "False\n",
      "False\n",
      "False\n"
     ]
    }
   ],
   "source": [
    "print(True, False)\n",
    "print(1 == 1)\n",
    "print(1 != 1)\n",
    "print(1 > 1)\n",
    "print(not True)"
   ]
  },
  {
   "cell_type": "markdown",
   "metadata": {},
   "source": [
    "# String"
   ]
  },
  {
   "cell_type": "markdown",
   "metadata": {},
   "source": [
    "## basic operate"
   ]
  },
  {
   "cell_type": "code",
   "execution_count": 1,
   "metadata": {},
   "outputs": [
    {
     "name": "stdout",
     "output_type": "stream",
     "text": [
      "str1:  ABC , type:  <class 'str'>\n",
      "True\n",
      "False\n",
      "str1 + str2:  xyzABC\n"
     ]
    }
   ],
   "source": [
    "str1 = 'ABC' \n",
    "str2 = str1 \n",
    "print(\"str1: \", str1, \", type: \", type(str1)) \n",
    "print(str1 == str2)\n",
    "\n",
    "str1 = 'xyz'\n",
    "print(str1 == str2)\n",
    "print(\"str1 + str2: \", str1 + str2) "
   ]
  },
  {
   "cell_type": "markdown",
   "metadata": {},
   "source": [
    "## string slice"
   ]
  },
  {
   "cell_type": "code",
   "execution_count": 2,
   "metadata": {},
   "outputs": [
    {
     "name": "stdout",
     "output_type": "stream",
     "text": [
      "str3[0]:  A , str3[-1]:  \n",
      "\n",
      "str3[:3]:  ABC , str3[5:-1]:  yz 123\n",
      "str3[2:3:1]:  Cx\n"
     ]
    }
   ],
   "source": [
    "str3 = \"ABC xyz 123\\n\"\n",
    "print('str3[0]: ', str3[0], ', str3[-1]: ', str3[-1])\n",
    "print('str3[:3]: ', str3[:3], ', str3[5:-1]: ', str3[5:-1])\n",
    "print('str3[2:3:1]: ', str3[2:5:2])"
   ]
  },
  {
   "cell_type": "markdown",
   "metadata": {},
   "source": [
    "## other operate"
   ]
  },
  {
   "cell_type": "code",
   "execution_count": 3,
   "metadata": {},
   "outputs": [
    {
     "name": "stdout",
     "output_type": "stream",
     "text": [
      "str3.replace:  ABC xyz 456\n",
      "\n",
      "str3.find:  4\n",
      "str3.split:  ['ABC', 'xyz', '123\\n']\n",
      "str3.rstrip:  ABC xyz 123\n",
      "['A', 'B', 'C', ' ', 'x', 'y', 'z', ' ', '1', '2', '3', '\\n']\n"
     ]
    }
   ],
   "source": [
    "# replace string\n",
    "print('str3.replace: ', str3.replace('123','456')) \n",
    "\n",
    "# find string\n",
    "print('str3.find: ', str3.find('xyz'))\n",
    "\n",
    "# string split to list\n",
    "print(\"str3.split: \", str3.split(' '))\n",
    "\n",
    "# string strip\n",
    "print(\"str3.rstrip: \", str3.rstrip())\n",
    "\n",
    "# string split to char\n",
    "print(list(str3))"
   ]
  },
  {
   "cell_type": "markdown",
   "metadata": {},
   "source": [
    "## format output"
   ]
  },
  {
   "cell_type": "code",
   "execution_count": 4,
   "metadata": {},
   "outputs": [
    {
     "name": "stdout",
     "output_type": "stream",
     "text": [
      "Hi, Python!\n"
     ]
    }
   ],
   "source": [
    "print(\"{}, {}!\".format('Hi', 'Python'))"
   ]
  },
  {
   "cell_type": "markdown",
   "metadata": {},
   "source": [
    "---"
   ]
  },
  {
   "cell_type": "markdown",
   "metadata": {},
   "source": [
    "# Numeric"
   ]
  },
  {
   "cell_type": "markdown",
   "metadata": {},
   "source": [
    "## number type"
   ]
  },
  {
   "cell_type": "code",
   "execution_count": 5,
   "metadata": {},
   "outputs": [
    {
     "name": "stdout",
     "output_type": "stream",
     "text": [
      "<class 'int'>\n",
      "<class 'float'>\n",
      "<class 'complex'>\n"
     ]
    }
   ],
   "source": [
    "print(type(1))\n",
    "print(type(-2.1))\n",
    "print(type(1 + 2j))"
   ]
  },
  {
   "cell_type": "markdown",
   "metadata": {},
   "source": [
    "## number value"
   ]
  },
  {
   "cell_type": "code",
   "execution_count": 6,
   "metadata": {},
   "outputs": [
    {
     "name": "stdout",
     "output_type": "stream",
     "text": [
      "1\n",
      "-2.1\n",
      "(1+2j)\n",
      "255\n",
      "9\n"
     ]
    }
   ],
   "source": [
    "print(1)\n",
    "print(-2.1)\n",
    "print(1+2j)\n",
    "print(0xff)\n",
    "print(0o11)"
   ]
  },
  {
   "cell_type": "markdown",
   "metadata": {},
   "source": [
    "## number assign"
   ]
  },
  {
   "cell_type": "code",
   "execution_count": 7,
   "metadata": {},
   "outputs": [
    {
     "name": "stdout",
     "output_type": "stream",
     "text": [
      "1\n",
      "-2.1\n",
      "(1+2j)\n",
      "0xff\n",
      "0o11\n"
     ]
    }
   ],
   "source": [
    "print(int(1))\n",
    "print(float(-2.1))\n",
    "print(complex(1, 2))\n",
    "print(hex(255))\n",
    "print(oct(9))"
   ]
  },
  {
   "cell_type": "markdown",
   "metadata": {},
   "source": [
    "## string convert to number"
   ]
  },
  {
   "cell_type": "code",
   "execution_count": 8,
   "metadata": {},
   "outputs": [
    {
     "name": "stdout",
     "output_type": "stream",
     "text": [
      "STR:  123 , VAR:  123\n",
      "STR type:  <class 'str'> , VAR type:  <class 'int'>\n",
      "STR:  456 , VAR:  123\n"
     ]
    }
   ],
   "source": [
    "STR=\"123\"\n",
    "VAR=int(STR)\n",
    "print(\"STR: \", STR, \", VAR: \", VAR)\n",
    "print(\"STR type: \",type(STR), \", VAR type: \", type(VAR))\n",
    "STR=\"456\"\n",
    "print(\"STR: \", STR, \", VAR: \", VAR)"
   ]
  },
  {
   "cell_type": "markdown",
   "metadata": {},
   "source": [
    "---"
   ]
  },
  {
   "cell_type": "markdown",
   "metadata": {},
   "source": [
    "# List"
   ]
  },
  {
   "cell_type": "markdown",
   "metadata": {},
   "source": [
    "## basic operate"
   ]
  },
  {
   "cell_type": "code",
   "execution_count": 10,
   "metadata": {},
   "outputs": [
    {
     "name": "stdout",
     "output_type": "stream",
     "text": [
      "LIST :  [] , LIST type:  <class 'list'>\n",
      "lst1:  ['ABC', 'xyz', 123] , lst2:  ['ABC', 'xyz', 123] , lst3:  ['ABC', 'xyz', 123]\n",
      "lst1:  ['xyz', 123, 45.7] , lst2:  ['xyz', 123, 45.7] , lst3:  ['ABC', 'xyz', 123]\n",
      "index:  0 , value:  xyz\n",
      "index:  1 , value:  123\n",
      "index:  2 , value:  45.7\n",
      "value:  xyz\n",
      "value:  123\n",
      "value:  45.7\n"
     ]
    }
   ],
   "source": [
    "lst1 = [] \n",
    "print(\"LIST : \", lst1, \", LIST type: \", type(lst1))\n",
    "lst1 = [\"ABC\", 'xyz', 123] \n",
    "\n",
    "lst2 = lst1 \n",
    "lst3 = lst1[:] \n",
    "print(\"lst1: \", lst1, \", lst2: \", lst2, \", lst3: \", lst3)\n",
    "lst1.append(45.7) \n",
    "lst1.remove('ABC') \n",
    "[2, 4, 1].sort() \n",
    "print(\"lst1: \", lst1, \", lst2: \", lst2, \", lst3: \", lst3)\n",
    "\n",
    "for i in range(len(lst1)): \n",
    "    print(\"index: \", i, \", value: \", lst1[i])\n",
    "\n",
    "for l in lst1: \n",
    "    print(\"value: \", l)"
   ]
  },
  {
   "cell_type": "markdown",
   "metadata": {},
   "source": [
    "## String and List"
   ]
  },
  {
   "cell_type": "code",
   "execution_count": 11,
   "metadata": {},
   "outputs": [
    {
     "name": "stdout",
     "output_type": "stream",
     "text": [
      "['XYZ', 'abc', '123']\n",
      "123. abc. XYZ\n"
     ]
    }
   ],
   "source": [
    "# string convert to list\n",
    "print(\"XYZ, abc, 123\".split(\", \"))\n",
    "\n",
    "# list convert to string\n",
    "print('. '.join(['123', \"abc\", 'XYZ']))"
   ]
  },
  {
   "cell_type": "markdown",
   "metadata": {},
   "source": [
    "## 2D List"
   ]
  },
  {
   "cell_type": "code",
   "execution_count": 14,
   "metadata": {},
   "outputs": [
    {
     "name": "stdout",
     "output_type": "stream",
     "text": [
      "[[None, None, None], [None, None, None], [None, None, None], [None, None, None], [None, None, None]]\n",
      "[[None, None, None], [None, None, None], [None, None, None], [None, None, None], [None, None, None]]\n",
      "[[0, 1, 2], [3, 4, 5], [6, 7, 8], [9, 10, 11], [12, 13, 14]]\n",
      "[[0, 1, 2], [3, 4, 5], [6, 7, 8], [9, 10, 11], [12, 13, 14]]\n",
      "11\n"
     ]
    }
   ],
   "source": [
    "# 2D list\n",
    "my_list1 = [] \n",
    "for x in range(5): \n",
    "    tmp_list = [] \n",
    "    for y in range(3): \n",
    "        tmp_list.append(None) \n",
    "    my_list1.append(tmp_list) \n",
    "print(my_list1)\n",
    "\n",
    "# 使用 List Comprehensions \n",
    "my_list2 = [[None for _ in range(3)] for _ in range(5)] \n",
    "print(my_list2)\n",
    "\n",
    "# 設定初始值不一樣的二維陣列 \n",
    "my_list3 = [] \n",
    "for x in range(5): \n",
    "    tmp_list = [] \n",
    "    for y in range(3): \n",
    "        tmp_list.append(y + 3 * x) \n",
    "    my_list3.append(tmp_list) \n",
    "print(my_list3)\n",
    "\n",
    "my_list4 = [[x + 3 * y for x in range(3)] for y in range(5)] \n",
    "print(my_list4)\n",
    "print(my_list4[3][2])"
   ]
  },
  {
   "cell_type": "markdown",
   "metadata": {},
   "source": [
    "---"
   ]
  },
  {
   "cell_type": "markdown",
   "metadata": {},
   "source": [
    "# Dictionary"
   ]
  },
  {
   "cell_type": "code",
   "execution_count": 13,
   "metadata": {},
   "outputs": [
    {
     "name": "stdout",
     "output_type": "stream",
     "text": [
      "DICTIONARY:  {} DICTIONARY type:  <class 'dict'>\n",
      "dict1:  {'A': 'ABC', 'x': 'xyz', '0': 123} dict2:  {'A': 'ABC', 'x': 'xyz', '0': 123}\n",
      "True\n",
      "dict1['A']:  ABC\n",
      "dict1['A']:  ABC\n",
      "dict1['test']:  default\n",
      "True\n",
      "{'A': 'ABC', 'x': 'xyz', '0': 123, 'G': 'A2x', '4': 45.7}\n",
      "dict1:  {'0': 123, 'G': 'A2x', '4': 45.7}\n",
      "key:  0 value:  123\n",
      "key:  G value:  A2x\n",
      "key:  4 value:  45.7\n"
     ]
    }
   ],
   "source": [
    "dict1 = {} \n",
    "print(\"DICTIONARY: \", dict1, \"DICTIONARY type: \",type(dict1))\n",
    "\n",
    "dict1 = {'A': 'ABC', \"x\": \"xyz\", \"0\": 123} \n",
    "dict2 = dict1\n",
    "print(\"dict1: \", dict1, \"dict2: \", dict2)\n",
    "print(dict1 == dict2)\n",
    "\n",
    "# get key and value\n",
    "print(\"dict1['A']: \", dict1['A'])\n",
    "print(\"dict1['A']: \", dict1.get('A'))\n",
    "print(\"dict1['test']: \", dict1.get('test', 'default'))\n",
    "print(dict1 == dict2)\n",
    "\n",
    "# add key and value\n",
    "dict1['G'] = 'A2x'\n",
    "dict1.update({'4': 45.7})\n",
    "print(dict1)\n",
    "\n",
    "# remove key and. value\n",
    "del(dict1['x'])\n",
    "dict1.pop('A')\n",
    "print(\"dict1: \", dict1)\n",
    "\n",
    "for key in dict1.keys(): \n",
    "    print(\"key: \", key, \"value: \", dict1[key])"
   ]
  },
  {
   "cell_type": "markdown",
   "metadata": {},
   "source": [
    "## Check Key"
   ]
  },
  {
   "cell_type": "code",
   "execution_count": 29,
   "metadata": {},
   "outputs": [
    {
     "name": "stdout",
     "output_type": "stream",
     "text": [
      "True\n",
      "True\n"
     ]
    }
   ],
   "source": [
    "hoilday = {'sat': 'Saturday', 'sun': 'Sunday'}\n",
    "\n",
    "print('sun' in hoilday.keys())\n",
    "print('sun' in hoilday)"
   ]
  },
  {
   "cell_type": "markdown",
   "metadata": {},
   "source": [
    "---"
   ]
  },
  {
   "cell_type": "markdown",
   "metadata": {},
   "source": [
    "# Tuple"
   ]
  },
  {
   "cell_type": "code",
   "execution_count": 30,
   "metadata": {},
   "outputs": [
    {
     "name": "stdout",
     "output_type": "stream",
     "text": [
      "1\n",
      "xyz\n",
      "ABC\n",
      "(0, 0)\n",
      "(0, 1)\n",
      "(1, 0)\n",
      "0 0\n",
      "0 1\n",
      "1 0\n"
     ]
    }
   ],
   "source": [
    "# tuple 的顯示方式 \n",
    "tup = (1, \"xyz\", 'ABC') \n",
    "for t in tup:\n",
    "    print (t)\n",
    "\n",
    "# net tuple 的使用方式 \n",
    "h2o =((0, 0), (0, 1), (1, 0)) \n",
    "for atom in h2o:\n",
    "    print (atom)\n",
    "\n",
    "for x, y in h2o: \n",
    "    print (x, y)"
   ]
  },
  {
   "cell_type": "markdown",
   "metadata": {},
   "source": [
    "---"
   ]
  },
  {
   "cell_type": "markdown",
   "metadata": {},
   "source": [
    "# Set"
   ]
  },
  {
   "cell_type": "code",
   "execution_count": 43,
   "metadata": {},
   "outputs": [
    {
     "name": "stdout",
     "output_type": "stream",
     "text": [
      "<class 'set'>\n",
      "{1, 2, 3}\n",
      "<class 'dict'>\n",
      "<class 'set'>\n",
      "{3}\n",
      "{1, 2}\n"
     ]
    }
   ],
   "source": [
    "set1 = {1, 2, 3}\n",
    "print(type(set1))\n",
    "print(set1)\n",
    "\n",
    "set2 = {}\n",
    "print(type(set2))\n",
    "\n",
    "set3 = set()\n",
    "set3.add(3)\n",
    "print(type(set3))\n",
    "print(set3)\n",
    "\n",
    "print(set1 - set3)"
   ]
  },
  {
   "cell_type": "markdown",
   "metadata": {},
   "source": [
    "---"
   ]
  },
  {
   "cell_type": "markdown",
   "metadata": {},
   "source": [
    "# Date Time"
   ]
  }
 ],
 "metadata": {
  "kernelspec": {
   "display_name": "Python 3",
   "language": "python",
   "name": "python3"
  },
  "language_info": {
   "codemirror_mode": {
    "name": "ipython",
    "version": 3
   },
   "file_extension": ".py",
   "mimetype": "text/x-python",
   "name": "python",
   "nbconvert_exporter": "python",
   "pygments_lexer": "ipython3",
   "version": "3.6.0"
  }
 },
 "nbformat": 4,
 "nbformat_minor": 2
}
