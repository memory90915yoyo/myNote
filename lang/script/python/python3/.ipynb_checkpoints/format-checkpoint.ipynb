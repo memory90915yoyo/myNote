{
 "cells": [
  {
   "cell_type": "markdown",
   "metadata": {},
   "source": [
    "# old format"
   ]
  },
  {
   "cell_type": "code",
   "execution_count": 1,
   "metadata": {},
   "outputs": [
    {
     "name": "stdout",
     "output_type": "stream",
     "text": [
      "42\n",
      "7.030000\n",
      "100%\n",
      "this is a simple test\n"
     ]
    }
   ],
   "source": [
    "print('%s' % 42)\n",
    "print('%f' % 7.03)\n",
    "print('%d%%' % 100)\n",
    "\n",
    "print('this %s a %s test' % ('is', 'simple'))"
   ]
  },
  {
   "cell_type": "markdown",
   "metadata": {},
   "source": [
    "---"
   ]
  },
  {
   "cell_type": "markdown",
   "metadata": {},
   "source": [
    "# new format"
   ]
  },
  {
   "cell_type": "code",
   "execution_count": 2,
   "metadata": {},
   "outputs": [
    {
     "name": "stdout",
     "output_type": "stream",
     "text": [
      "ecmadao,edward,cavalier\n",
      "cavalier,ecmadao,edward\n"
     ]
    }
   ],
   "source": [
    "print('{},{},{}'.format('ecmadao', 'edward', 'cavalier'))\n",
    "print('{2},{0},{1}'.format('ecmadao', 'edward', 'cavalier'))"
   ]
  },
  {
   "cell_type": "code",
   "execution_count": 3,
   "metadata": {},
   "outputs": [
    {
     "name": "stdout",
     "output_type": "stream",
     "text": [
      "0 1 2\n",
      "0 1 2others\n"
     ]
    }
   ],
   "source": [
    "example_dict = {'a': 0, 'b': 1, 'c': 2}\n",
    "print('{a} {b} {c}'.format(a = 0, b = 1, c = 2))\n",
    "print('{0[a]} {0[b]} {0[c]}{1}'.format(example_dict, 'others'))"
   ]
  },
  {
   "cell_type": "code",
   "execution_count": 4,
   "metadata": {},
   "outputs": [
    {
     "name": "stdout",
     "output_type": "stream",
     "text": [
      " 7.030000\n"
     ]
    }
   ],
   "source": [
    "print('{0: f}'.format(7.03))"
   ]
  },
  {
   "cell_type": "markdown",
   "metadata": {},
   "source": [
    "---"
   ]
  },
  {
   "cell_type": "markdown",
   "metadata": {},
   "source": [
    "# here document"
   ]
  },
  {
   "cell_type": "code",
   "execution_count": 1,
   "metadata": {},
   "outputs": [
    {
     "name": "stdout",
     "output_type": "stream",
     "text": [
      "hello python2\n",
      "hi python3\n"
     ]
    }
   ],
   "source": [
    "print('''hello python2\n",
    "hi python3''')"
   ]
  }
 ],
 "metadata": {
  "kernelspec": {
   "display_name": "Python 3",
   "language": "python",
   "name": "python3"
  },
  "language_info": {
   "codemirror_mode": {
    "name": "ipython",
    "version": 3
   },
   "file_extension": ".py",
   "mimetype": "text/x-python",
   "name": "python",
   "nbconvert_exporter": "python",
   "pygments_lexer": "ipython3",
   "version": "3.6.0"
  }
 },
 "nbformat": 4,
 "nbformat_minor": 2
}
