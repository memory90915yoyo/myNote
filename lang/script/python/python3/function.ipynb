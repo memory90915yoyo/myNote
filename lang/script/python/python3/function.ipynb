{
 "cells": [
  {
   "cell_type": "markdown",
   "metadata": {},
   "source": [
    "# def"
   ]
  },
  {
   "cell_type": "code",
   "execution_count": 1,
   "metadata": {},
   "outputs": [
    {
     "name": "stdout",
     "output_type": "stream",
     "text": [
      "before: arg1:  A arg2:  B\n",
      "after: arg1:  B arg2:  A\n"
     ]
    }
   ],
   "source": [
    "def change(arg1, arg2): # define function\n",
    "    print(\"before: arg1: \", arg1, \"arg2: \", arg2)\n",
    "    (arg1, arg2) = (arg2 ,arg1) \n",
    "    print(\"after: arg1: \", arg1, \"arg2: \", arg2)\n",
    "    return (arg1, arg2)   # return value\n",
    "\n",
    "if __name__ == \"__main__\":  #define main function\n",
    "    change(\"A\", \"B\")"
   ]
  },
  {
   "cell_type": "code",
   "execution_count": 2,
   "metadata": {},
   "outputs": [
    {
     "name": "stdout",
     "output_type": "stream",
     "text": [
      "before: arg1:  xyz arg2:  abc\n",
      "after: arg1:  abc arg2:  xyz\n",
      "abc xyz\n"
     ]
    }
   ],
   "source": [
    "x, y = change('xyz', 'abc')     # call function\n",
    "print(x, y)"
   ]
  },
  {
   "cell_type": "markdown",
   "metadata": {},
   "source": [
    "---"
   ]
  },
  {
   "cell_type": "markdown",
   "metadata": {},
   "source": [
    "# arg"
   ]
  },
  {
   "cell_type": "code",
   "execution_count": 6,
   "metadata": {},
   "outputs": [
    {
     "name": "stdout",
     "output_type": "stream",
     "text": [
      "Name: May\n",
      "sex: female\n",
      "age: 15\n",
      "I'm student.\n",
      "I live in Taiei.\n"
     ]
    }
   ],
   "source": [
    "def person(name = \"NoName\", *desc , **data): #name is default value, *desc is tuple, **data is dict \n",
    "    print (\"Name: %s\" %name) \n",
    "    for k in data.keys():\n",
    "        print(\"%s: %s\" %(k, data[k]))\n",
    "    for s in desc:\n",
    "        print(s)\n",
    "\n",
    "if __name__ == \"__main__\": \n",
    "    myStory='''I'm student.\n",
    "I live in Taiei.'''.split('\\n')\n",
    "    myData = {\"sex\":\"female\", \"age\":\"15\"} \n",
    "\n",
    "    person(\"May\", *myStory, **myData)   # call function"
   ]
  },
  {
   "cell_type": "markdown",
   "metadata": {},
   "source": [
    "---"
   ]
  },
  {
   "cell_type": "markdown",
   "metadata": {},
   "source": [
    "# lambda"
   ]
  },
  {
   "cell_type": "code",
   "execution_count": 5,
   "metadata": {},
   "outputs": [
    {
     "name": "stdout",
     "output_type": "stream",
     "text": [
      "4\n",
      "7\n"
     ]
    }
   ],
   "source": [
    "my_sum = lambda x, y: x + y \n",
    "print(my_sum(1, 3))\n",
    "\n",
    "my_greater_than = lambda x, y: x if x > y else y \n",
    "print(my_greater_than(7, 3))"
   ]
  },
  {
   "cell_type": "markdown",
   "metadata": {},
   "source": [
    "---"
   ]
  },
  {
   "cell_type": "markdown",
   "metadata": {},
   "source": [
    "# decorator"
   ]
  },
  {
   "cell_type": "code",
   "execution_count": 30,
   "metadata": {},
   "outputs": [
    {
     "name": "stdout",
     "output_type": "stream",
     "text": [
      "Hello\n",
      "Hello\n",
      "John\n",
      "greet_someone1\n",
      "Mary\n",
      "greet_someone2\n"
     ]
    }
   ],
   "source": [
    "def greet(function): \n",
    "    print('Hello')\n",
    "    return function \n",
    "\n",
    "def greet_someone1(someone): \n",
    "    print(someone)\n",
    "greet_someone1 = greet(greet_someone1) \n",
    "\n",
    "@greet \n",
    "def greet_someone2(someone): \n",
    "    print(someone)\n",
    "\n",
    "greet_someone1('John')\n",
    "print(greet_someone1.__name__)\n",
    "greet_someone2('Mary')\n",
    "print(greet_someone2.__name__)"
   ]
  },
  {
   "cell_type": "code",
   "execution_count": 31,
   "metadata": {},
   "outputs": [
    {
     "name": "stdout",
     "output_type": "stream",
     "text": [
      "Hello\n",
      "John\n",
      "wrapper\n",
      "Hello\n",
      "Mary\n",
      "wrapper\n"
     ]
    }
   ],
   "source": [
    "def greet(function): \n",
    "    def wrapper(name): \n",
    "        print('Hello')\n",
    "        return function(name) \n",
    "    return wrapper \n",
    "\n",
    "def greet_someone1(someone): \n",
    "    print(someone)\n",
    "greet_someone1 = greet(greet_someone1) \n",
    "\n",
    "@greet \n",
    "def greet_someone2(someone): \n",
    "    print(someone)\n",
    "\n",
    "greet_someone1('John') \n",
    "print(greet_someone1.__name__)\n",
    "greet_someone2('Mary') \n",
    "print(greet_someone2.__name__)"
   ]
  },
  {
   "cell_type": "code",
   "execution_count": 45,
   "metadata": {},
   "outputs": [
    {
     "name": "stdout",
     "output_type": "stream",
     "text": [
      "Hi\n",
      "John\n",
      "wrapper\n",
      "Hi\n",
      "Mary\n",
      "wrapper\n"
     ]
    }
   ],
   "source": [
    "def greet(arg = 'Hello'):\n",
    "    def decorator(function):\n",
    "        def wrapper(name): \n",
    "            print(arg)\n",
    "            return function(name) \n",
    "        return wrapper\n",
    "    return decorator\n",
    "\n",
    "@greet('Hi')\n",
    "def greet_someone(someone):\n",
    "    print(someone)\n",
    "\n",
    "greet_someone('John') \n",
    "print(greet_someone.__name__)\n",
    "greet_someone('Mary') \n",
    "print(greet_someone.__name__)"
   ]
  },
  {
   "cell_type": "code",
   "execution_count": 39,
   "metadata": {},
   "outputs": [
    {
     "name": "stdout",
     "output_type": "stream",
     "text": [
      "Hello\n",
      "John\n",
      "greet_someone\n"
     ]
    }
   ],
   "source": [
    "import functools\n",
    "\n",
    "def greet(function): \n",
    "    @functools.wraps(function) \n",
    "    def wrapper(name): \n",
    "        print('Hello')\n",
    "        return function(name) \n",
    "    return wrapper \n",
    "\n",
    "@greet\n",
    "def greet_someone(someone): \n",
    "    print(someone)\n",
    "\n",
    "greet_someone('John') \n",
    "print(greet_someone.__name__)"
   ]
  },
  {
   "cell_type": "code",
   "execution_count": 46,
   "metadata": {},
   "outputs": [
    {
     "name": "stdout",
     "output_type": "stream",
     "text": [
      "Hello\n",
      "John\n",
      "greet_someone\n"
     ]
    }
   ],
   "source": [
    "import functools\n",
    "\n",
    "def greet(arg = 'Hello'):\n",
    "    def decorator(function):\n",
    "        @functools.wraps(function) \n",
    "        def wrapper(name): \n",
    "            print(arg)\n",
    "            return function(name) \n",
    "        return wrapper\n",
    "    return decorator\n",
    "\n",
    "@greet()\n",
    "def greet_someone(someone): \n",
    "    print(someone)\n",
    "\n",
    "greet_someone('John') \n",
    "print(greet_someone.__name__)"
   ]
  }
 ],
 "metadata": {
  "kernelspec": {
   "display_name": "Python 3",
   "language": "python",
   "name": "python3"
  },
  "language_info": {
   "codemirror_mode": {
    "name": "ipython",
    "version": 3
   },
   "file_extension": ".py",
   "mimetype": "text/x-python",
   "name": "python",
   "nbconvert_exporter": "python",
   "pygments_lexer": "ipython3",
   "version": "3.6.0"
  }
 },
 "nbformat": 4,
 "nbformat_minor": 2
}
