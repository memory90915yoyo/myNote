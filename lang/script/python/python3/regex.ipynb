{
 "cells": [
  {
   "cell_type": "markdown",
   "metadata": {},
   "source": [
    "# match"
   ]
  },
  {
   "cell_type": "code",
   "execution_count": null,
   "metadata": {},
   "outputs": [],
   "source": [
    "import re \n",
    "\n",
    "str = '/usr/lib/python2.6/site-packages/gtk-2.0/gconf.so' \n",
    "print(str)"
   ]
  },
  {
   "cell_type": "markdown",
   "metadata": {},
   "source": [
    "## ${var%.*} "
   ]
  },
  {
   "cell_type": "code",
   "execution_count": null,
   "metadata": {},
   "outputs": [],
   "source": [
    "\n",
    "restr = re.compile('(.*)\\.(.*?)$').match(str) \n",
    "print(\"%s <=> %s\" %(restr.group(1), restr.group(2)))\n",
    "print(restr.group(1, 2))\n",
    "print(restr.groups())\n",
    "print(re.sub('.[^.]*$', '', str))"
   ]
  },
  {
   "cell_type": "markdown",
   "metadata": {},
   "source": [
    "## ${var%%.*} "
   ]
  },
  {
   "cell_type": "code",
   "execution_count": null,
   "metadata": {},
   "outputs": [],
   "source": [
    "restr = re.compile('(.*?)\\.(.*)').match(str)\n",
    "print(\"%s <=> %s\" %(restr.group(1), restr.group(2)))\n",
    "print(re.sub('\\.(.*)', '', str))"
   ]
  },
  {
   "cell_type": "markdown",
   "metadata": {},
   "source": [
    "## ${STR0#*/}"
   ]
  },
  {
   "cell_type": "code",
   "execution_count": null,
   "metadata": {},
   "outputs": [],
   "source": [
    "restr = re.compile('(.*?)/(.*)').match(str)\n",
    "print(\"%s <=> %s\" %(restr.group(1), restr.group(2)))\n",
    "print(re.sub('^(.*?)/', '', str))"
   ]
  },
  {
   "cell_type": "markdown",
   "metadata": {},
   "source": [
    "## ${STR0##*/}"
   ]
  },
  {
   "cell_type": "code",
   "execution_count": null,
   "metadata": {},
   "outputs": [],
   "source": [
    "restr = re.compile('(.*)/(.*)').match(str)\n",
    "print(\"%s <=> %s\" %(restr.group(1), restr.group(2)))\n",
    "print(re.sub('(.*)/', '', str))"
   ]
  },
  {
   "cell_type": "markdown",
   "metadata": {},
   "source": [
    "---"
   ]
  },
  {
   "cell_type": "markdown",
   "metadata": {},
   "source": [
    "# search"
   ]
  },
  {
   "cell_type": "code",
   "execution_count": null,
   "metadata": {},
   "outputs": [],
   "source": [
    "import re\n",
    "\n",
    "sentence = '''\n",
    "wlan0 down AP wlan0 0 00:00:00:00:00:00 Wireless1\n",
    "wlan1 down AP wlan1 0 00:00:00:00:00:00 Wireless2\n",
    "wlan2 up AP wlan2 0 00:00:00:00:00:00 Wireless3\n",
    "wlan36 up AP wlan36 1 00:00:00:00:00:00 Wireless13\n",
    "wlan37 down AP wlan37 1 00:00:00:00:00:00 Wireless14\n",
    "wlan38 up AP wlan38 1 00:00:00:00:00:00 Wireless15\n",
    "wlan39 down AP wlan39 1 00:00:00:00:00:00 Wireless16\n",
    "wlan40 down AP wlan40 1 00:00:00:00:00:00 Wireless17\n",
    "'''\n",
    "\n",
    "print(sentence)"
   ]
  },
  {
   "cell_type": "markdown",
   "metadata": {},
   "source": [
    "# lazy search"
   ]
  },
  {
   "cell_type": "code",
   "execution_count": null,
   "metadata": {},
   "outputs": [],
   "source": [
    "lazy_pattern = 'wlan\\d+.*up[\\s\\S]+?Wireless\\d+'\n",
    "lazy_match = re.search(lazy_pattern, sentence)\n",
    "\n",
    "print(\"lazy:\")\n",
    "print(lazy_match.group())"
   ]
  },
  {
   "cell_type": "markdown",
   "metadata": {},
   "source": [
    "# greedy search"
   ]
  },
  {
   "cell_type": "code",
   "execution_count": null,
   "metadata": {},
   "outputs": [],
   "source": [
    "greedy_pattern1 = 'wlan\\d+.*up[\\s\\S]+Wireless\\d+'\n",
    "greedy_match1 = re.search(greedy_pattern1, sentence)\n",
    "\n",
    "print(\"greedy 1:\")\n",
    "print(greedy_match1.group())"
   ]
  },
  {
   "cell_type": "code",
   "execution_count": null,
   "metadata": {},
   "outputs": [],
   "source": [
    "greedy_pattern2 = 'wlan\\d+.*up[\\s\\S]*Wireless\\d+'\n",
    "greedy_match2 = re.search(greedy_pattern2, sentence)\n",
    "\n",
    "print(\"greedy 2:\")\n",
    "print(greedy_match2.group())"
   ]
  },
  {
   "cell_type": "markdown",
   "metadata": {},
   "source": [
    "# find all"
   ]
  },
  {
   "cell_type": "code",
   "execution_count": null,
   "metadata": {},
   "outputs": [],
   "source": [
    "lazy_pattern = 'wlan\\d+.*up[\\s\\S]+?Wireless\\d+'\n",
    "match_all = re.findall(lazy_pattern, sentence)\n",
    "\n",
    "print(\"find all:\")\n",
    "print(match_all)"
   ]
  }
 ],
 "metadata": {
  "kernelspec": {
   "display_name": "Python 3",
   "language": "python",
   "name": "python3"
  },
  "language_info": {
   "codemirror_mode": {
    "name": "ipython",
    "version": 3
   },
   "file_extension": ".py",
   "mimetype": "text/x-python",
   "name": "python",
   "nbconvert_exporter": "python",
   "pygments_lexer": "ipython3",
   "version": "3.6.0"
  }
 },
 "nbformat": 4,
 "nbformat_minor": 2
}
