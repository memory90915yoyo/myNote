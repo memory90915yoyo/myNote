{
 "cells": [
  {
   "cell_type": "markdown",
   "metadata": {},
   "source": [
    "# Dict"
   ]
  },
  {
   "cell_type": "code",
   "execution_count": null,
   "metadata": {},
   "outputs": [],
   "source": [
    "a = {'one': 1, 'two': 2, 'three': 3}\n",
    "b = dict(one=1, two=2, three=3)\n",
    "c = dict(zip(['one', 'two', 'three'], [1, 2, 3]))\n",
    "d = dict([('two', 2), ('three', 3), ('one', 1)])\n",
    "e = dict({'two': 2, 'three': 3, 'one': 1})\n",
    "\n",
    "a == b == c == d == e"
   ]
  },
  {
   "cell_type": "markdown",
   "metadata": {},
   "source": [
    "# dictcomp"
   ]
  },
  {
   "cell_type": "code",
   "execution_count": null,
   "metadata": {},
   "outputs": [],
   "source": [
    "zip_code = [(1, 'US'), (86, 'China'), (81, 'Japan')]\n",
    "country_code = {country: code for code, country in zip_code}\n",
    "\n",
    "print(country_code)"
   ]
  },
  {
   "cell_type": "markdown",
   "metadata": {},
   "source": [
    "# default key"
   ]
  },
  {
   "cell_type": "code",
   "execution_count": null,
   "metadata": {},
   "outputs": [],
   "source": [
    "# get\n",
    "dict1 = {}\n",
    "print(dict1.get('one', 1))\n",
    "print(dict1)"
   ]
  },
  {
   "cell_type": "code",
   "execution_count": null,
   "metadata": {},
   "outputs": [],
   "source": [
    "# setdefault\n",
    "dict2 = {'one': 1}\n",
    "dict2.setdefault('two', 2)\n",
    "dict2.setdefault('one', 11)\n",
    "\n",
    "print(dict2)"
   ]
  },
  {
   "cell_type": "code",
   "execution_count": null,
   "metadata": {},
   "outputs": [],
   "source": [
    "# defaultdict\n",
    "import collections\n",
    "\n",
    "dict3 = collections.defaultdict(list)\n",
    "print(dict3)\n",
    "print(dict3['one'])\n",
    "print(dict3)\n",
    "\n",
    "def zero():\n",
    "    return 0\n",
    "\n",
    "dict4 = collections.defaultdict(zero)\n",
    "print(dict4)\n",
    "print(dict4['one'])\n",
    "print(dict4)"
   ]
  },
  {
   "cell_type": "code",
   "execution_count": null,
   "metadata": {},
   "outputs": [],
   "source": [
    "# __missing__\n",
    "class StrKeyDict(dict):\n",
    "    def __missing__(self, key):\n",
    "        if not isinstance(key, str):\n",
    "            return str(key)\n",
    "        return key\n",
    "    \n",
    "dict5 = StrKeyDict()\n",
    "print(dict5['one'])\n",
    "print(dict5[11])\n",
    "print(dict5)"
   ]
  },
  {
   "cell_type": "markdown",
   "metadata": {},
   "source": [
    "- collections.OrderedDict\n",
    "- collections.ChainMap\n",
    "- collections.Counter\n",
    "- collections.UserDict"
   ]
  },
  {
   "cell_type": "markdown",
   "metadata": {},
   "source": [
    "---"
   ]
  },
  {
   "cell_type": "code",
   "execution_count": null,
   "metadata": {},
   "outputs": [],
   "source": [
    "# MappingProxyType\n",
    "import types\n",
    "d_proxy = types.MappingProxyType({'one': 1, 'two': 2})\n",
    "print(d_proxy)\n",
    "print(d_proxy['one'])\n",
    "d_proxy['one'] = 11"
   ]
  },
  {
   "cell_type": "markdown",
   "metadata": {},
   "source": [
    "---"
   ]
  },
  {
   "cell_type": "markdown",
   "metadata": {},
   "source": [
    "# Set"
   ]
  },
  {
   "cell_type": "code",
   "execution_count": null,
   "metadata": {},
   "outputs": [],
   "source": []
  }
 ],
 "metadata": {
  "kernelspec": {
   "display_name": "Python 3",
   "language": "python",
   "name": "python3"
  },
  "language_info": {
   "codemirror_mode": {
    "name": "ipython",
    "version": 3
   },
   "file_extension": ".py",
   "mimetype": "text/x-python",
   "name": "python",
   "nbconvert_exporter": "python",
   "pygments_lexer": "ipython3",
   "version": "3.6.0"
  }
 },
 "nbformat": 4,
 "nbformat_minor": 2
}
