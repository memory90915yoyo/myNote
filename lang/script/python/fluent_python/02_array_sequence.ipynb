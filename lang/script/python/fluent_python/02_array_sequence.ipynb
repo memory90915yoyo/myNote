{
 "cells": [
  {
   "cell_type": "markdown",
   "metadata": {},
   "source": [
    "# Container Array"
   ]
  },
  {
   "cell_type": "markdown",
   "metadata": {},
   "source": [
    "- list\n",
    "- tuple\n",
    "- collections.deque"
   ]
  },
  {
   "cell_type": "markdown",
   "metadata": {},
   "source": [
    "# Common Array"
   ]
  },
  {
   "cell_type": "markdown",
   "metadata": {},
   "source": [
    "- str\n",
    "- bytes\n",
    "- bytearray\n",
    "- memoryview\n",
    "- array.array"
   ]
  },
  {
   "cell_type": "markdown",
   "metadata": {},
   "source": [
    "# Mutable Array"
   ]
  },
  {
   "cell_type": "markdown",
   "metadata": {},
   "source": [
    "- list\n",
    "- bytearray\n",
    "- array.array\n",
    "- collections.deque\n",
    "- memoryview"
   ]
  },
  {
   "cell_type": "markdown",
   "metadata": {},
   "source": [
    "# Immutable Array"
   ]
  },
  {
   "cell_type": "markdown",
   "metadata": {},
   "source": [
    "- tuple\n",
    "- str\n",
    "- bytes"
   ]
  },
  {
   "cell_type": "markdown",
   "metadata": {},
   "source": [
    "# listcomp"
   ]
  },
  {
   "cell_type": "code",
   "execution_count": null,
   "metadata": {},
   "outputs": [],
   "source": [
    "symbols = 'apple'\n",
    "\n",
    "# loop\n",
    "codes1 = []\n",
    "for symbol in symbols:\n",
    "    codes1.append(ord(symbol))\n",
    "print(codes1)\n",
    "\n",
    "# listcomp / list comprehension\n",
    "codes2 = [ord(symbol) for symbol in symbols]\n",
    "print(codes2)\n",
    "print([ord(symbol) for symbol in symbols if ord(symbol) %2 == 1])\n",
    "\n",
    "# genexp\n",
    "codes3 = tuple(ord(symbol) for symbol in symbols)\n",
    "print(codes3)"
   ]
  },
  {
   "cell_type": "markdown",
   "metadata": {},
   "source": [
    "# unpacking"
   ]
  },
  {
   "cell_type": "code",
   "execution_count": null,
   "metadata": {},
   "outputs": [],
   "source": [
    "print(divmod(20, 8))\n",
    "\n",
    "tuple1 = (20, 8)\n",
    "# unpacking\n",
    "print(divmod(*tuple1))\n",
    "\n",
    "# dummy variable\n",
    "_, x = divmod(*tuple1))\n",
    "print(x)"
   ]
  },
  {
   "cell_type": "code",
   "execution_count": null,
   "metadata": {},
   "outputs": [],
   "source": [
    "a, b, *tail = range(5)\n",
    "print(a, b, tail)\n",
    "\n",
    "a, *body, b = range(5)\n",
    "print(a, body, b)\n",
    "\n",
    "*head, a, b = range(5)\n",
    "print(head, a, b)"
   ]
  },
  {
   "cell_type": "markdown",
   "metadata": {},
   "source": [
    "# slicing"
   ]
  },
  {
   "cell_type": "code",
   "execution_count": null,
   "metadata": {},
   "outputs": [],
   "source": [
    "s = 'bicycle'\n",
    "print(s[2:])\n",
    "print(s[::3])\n",
    "print(s[::-1])"
   ]
  },
  {
   "cell_type": "code",
   "execution_count": null,
   "metadata": {},
   "outputs": [],
   "source": [
    "invoice = '''\n",
    "0......6........................40.........52...55.........\n",
    "1909  Pimoroni                          $17.50      3    $52.50\n",
    "1489  6mm Tactile Swich x20              $4.95      2     $9.90\n",
    "1510  Panavise Jr - PV-201              $28.00      1    $28.00\n",
    "1601  PiTFT Mini Kit 320x240            $34.95      1    $34.95\n",
    "'''\n",
    "\n",
    "SKU = slice(0, 6)\n",
    "DESCRIPTION = slice(6, 40)\n",
    "UNIT_PRICE = slice(40, 52)\n",
    "QUANTITY = slice(52, 55)\n",
    "ITEM_TOTAL = slice(55, None)\n",
    "line_items = invoice.split('\\n')[2:]\n",
    "for item in line_items:\n",
    "    print(item[UNIT_PRICE], item[DESCRIPTION])"
   ]
  },
  {
   "cell_type": "code",
   "execution_count": null,
   "metadata": {},
   "outputs": [],
   "source": []
  }
 ],
 "metadata": {
  "kernelspec": {
   "display_name": "Python 3",
   "language": "python",
   "name": "python3"
  },
  "language_info": {
   "codemirror_mode": {
    "name": "ipython",
    "version": 3
   },
   "file_extension": ".py",
   "mimetype": "text/x-python",
   "name": "python",
   "nbconvert_exporter": "python",
   "pygments_lexer": "ipython3",
   "version": "3.6.0"
  }
 },
 "nbformat": 4,
 "nbformat_minor": 2
}
