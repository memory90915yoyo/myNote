{
 "cells": [
  {
   "cell_type": "markdown",
   "metadata": {},
   "source": [
    "# def"
   ]
  },
  {
   "cell_type": "code",
   "execution_count": null,
   "metadata": {},
   "outputs": [],
   "source": [
    "def change(arg1, arg2): # define function\n",
    "    print(\"before: arg1: \", arg1, \"arg2: \", arg2)\n",
    "    (arg1, arg2) = (arg2 ,arg1) \n",
    "    print(\"after: arg1: \", arg1, \"arg2: \", arg2)\n",
    "    return (arg1, arg2)   # return value\n",
    "\n",
    "if __name__ == \"__main__\":  #define main function\n",
    "    change(\"A\", \"B\")"
   ]
  },
  {
   "cell_type": "code",
   "execution_count": null,
   "metadata": {},
   "outputs": [],
   "source": [
    "x, y = change('xyz', 'abc')     # call function\n",
    "print(x, y)"
   ]
  },
  {
   "cell_type": "markdown",
   "metadata": {},
   "source": [
    "---"
   ]
  },
  {
   "cell_type": "markdown",
   "metadata": {},
   "source": [
    "# arg"
   ]
  },
  {
   "cell_type": "code",
   "execution_count": null,
   "metadata": {},
   "outputs": [],
   "source": [
    "def person(name = \"NoName\", *desc , **data): #name is default value, *desc is tuple, **data is dict \n",
    "    print (\"Name: %s\" %name) \n",
    "    for k in data.keys():\n",
    "        print(\"%s: %s\" %(k, data[k]))\n",
    "    for s in desc:\n",
    "        print(s)\n",
    "\n",
    "if __name__ == \"__main__\": \n",
    "    myStory='''I'm student.\n",
    "I live in Taiei.'''.split('\\n')\n",
    "    myData = {\"sex\":\"female\", \"age\":\"15\"} \n",
    "\n",
    "    person(\"May\", *myStory, **myData)   # call function"
   ]
  },
  {
   "cell_type": "markdown",
   "metadata": {},
   "source": [
    "---"
   ]
  },
  {
   "cell_type": "markdown",
   "metadata": {},
   "source": [
    "# lambda"
   ]
  },
  {
   "cell_type": "code",
   "execution_count": null,
   "metadata": {},
   "outputs": [],
   "source": [
    "my_sum = lambda x, y: x + y \n",
    "print(my_sum(1, 3))\n",
    "\n",
    "my_greater_than = lambda x, y: x if x > y else y \n",
    "print(my_greater_than(7, 3))"
   ]
  },
  {
   "cell_type": "markdown",
   "metadata": {},
   "source": [
    "---"
   ]
  },
  {
   "cell_type": "markdown",
   "metadata": {},
   "source": [
    "# decorator"
   ]
  },
  {
   "cell_type": "code",
   "execution_count": null,
   "metadata": {},
   "outputs": [],
   "source": [
    "def greet(function): \n",
    "    print('Hello')\n",
    "    return function \n",
    "\n",
    "def greet_someone1(someone): \n",
    "    print(someone)\n",
    "greet_someone1 = greet(greet_someone1) \n",
    "\n",
    "@greet \n",
    "def greet_someone2(someone): \n",
    "    print(someone)\n",
    "\n",
    "greet_someone1('John')\n",
    "print(greet_someone1.__name__)\n",
    "greet_someone2('Mary')\n",
    "print(greet_someone2.__name__)"
   ]
  },
  {
   "cell_type": "code",
   "execution_count": null,
   "metadata": {},
   "outputs": [],
   "source": [
    "def greet(function): \n",
    "    def wrapper(name): \n",
    "        print('Hello')\n",
    "        return function(name) \n",
    "    return wrapper \n",
    "\n",
    "def greet_someone1(someone): \n",
    "    print(someone)\n",
    "greet_someone1 = greet(greet_someone1) \n",
    "\n",
    "@greet \n",
    "def greet_someone2(someone): \n",
    "    print(someone)\n",
    "\n",
    "greet_someone1('John') \n",
    "print(greet_someone1.__name__)\n",
    "greet_someone2('Mary') \n",
    "print(greet_someone2.__name__)"
   ]
  },
  {
   "cell_type": "code",
   "execution_count": null,
   "metadata": {},
   "outputs": [],
   "source": [
    "def greet(arg = 'Hello'):\n",
    "    def decorator(function):\n",
    "        def wrapper(name): \n",
    "            print(arg)\n",
    "            return function(name) \n",
    "        return wrapper\n",
    "    return decorator\n",
    "\n",
    "@greet('Hi')\n",
    "def greet_someone(someone):\n",
    "    print(someone)\n",
    "\n",
    "greet_someone('John') \n",
    "print(greet_someone.__name__)\n",
    "greet_someone('Mary') \n",
    "print(greet_someone.__name__)"
   ]
  },
  {
   "cell_type": "code",
   "execution_count": null,
   "metadata": {},
   "outputs": [],
   "source": [
    "import functools\n",
    "\n",
    "def greet(function): \n",
    "    @functools.wraps(function) \n",
    "    def wrapper(name): \n",
    "        print('Hello')\n",
    "        return function(name) \n",
    "    return wrapper \n",
    "\n",
    "@greet\n",
    "def greet_someone(someone): \n",
    "    print(someone)\n",
    "\n",
    "greet_someone('John') \n",
    "print(greet_someone.__name__)"
   ]
  },
  {
   "cell_type": "code",
   "execution_count": null,
   "metadata": {},
   "outputs": [],
   "source": [
    "import functools\n",
    "\n",
    "def greet(arg = 'Hello'):\n",
    "    def decorator(function):\n",
    "        @functools.wraps(function) \n",
    "        def wrapper(name): \n",
    "            print(arg)\n",
    "            return function(name) \n",
    "        return wrapper\n",
    "    return decorator\n",
    "\n",
    "@greet()\n",
    "def greet_someone(someone): \n",
    "    print(someone)\n",
    "\n",
    "greet_someone('John') \n",
    "print(greet_someone.__name__)"
   ]
  }
 ],
 "metadata": {
  "kernelspec": {
   "display_name": "Python 3",
   "language": "python",
   "name": "python3"
  },
  "language_info": {
   "codemirror_mode": {
    "name": "ipython",
    "version": 3
   },
   "file_extension": ".py",
   "mimetype": "text/x-python",
   "name": "python",
   "nbconvert_exporter": "python",
   "pygments_lexer": "ipython3",
   "version": "3.6.0"
  }
 },
 "nbformat": 4,
 "nbformat_minor": 2
}
